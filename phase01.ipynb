{
 "cells": [
  {
   "cell_type": "code",
   "execution_count": 85,
   "id": "480f8119-1265-4fe5-8fb6-fbf7d0c991ed",
   "metadata": {},
   "outputs": [
    {
     "name": "stdout",
     "output_type": "stream",
     "text": [
      "Product:             Ansys Mechanical Enterprise Academic Student\n",
      "MAPDL Version:       23.1\n",
      "ansys.mapdl Version: 0.64.0\n",
      "\n"
     ]
    }
   ],
   "source": [
    "import numpy as np\n",
    "import matplotlib.pyplot as plt\n",
    "from ansys.mapdl.core import launch_mapdl\n",
    "mapdl=launch_mapdl()\n",
    "print(mapdl)"
   ]
  },
  {
   "cell_type": "code",
   "execution_count": 86,
   "id": "aa2ff722-7ef6-42aa-a584-893607b93b42",
   "metadata": {},
   "outputs": [
    {
     "data": {
      "text/plain": [
       "*** MAPDL - ENGINEERING ANALYSIS SYSTEM  RELEASE 2023 R1          23.1     ***\n",
       " Ansys Mechanical Enterprise Academic Student      \n",
       " 01055371  VERSION=WINDOWS x64   02:14:28  APR 05, 2023 CP=      0.109\n",
       "\n",
       "                                                                               \n",
       "\n",
       "\n",
       "\n",
       "          ***** MAPDL ANALYSIS DEFINITION (PREP7) *****"
      ]
     },
     "execution_count": 86,
     "metadata": {},
     "output_type": "execute_result"
    }
   ],
   "source": [
    "mapdl.clear()\n",
    "mapdl.prep7()\n"
   ]
  },
  {
   "cell_type": "code",
   "execution_count": 87,
   "id": "5041d3d8-139c-4062-a734-458ddfcf0357",
   "metadata": {},
   "outputs": [],
   "source": [
    "# Define Material Property\n",
    "E = 210e9\n",
    "nu = 0.3\n",
    "YS = 240e6\n",
    "# Defining Geometry\n",
    "a = 0.01 # Crack length\n",
    "c = 0.03 # Thickness"
   ]
  },
  {
   "cell_type": "code",
   "execution_count": 88,
   "id": "db03033f-ec85-46be-bf67-c523bc12e146",
   "metadata": {},
   "outputs": [
    {
     "data": {
      "application/vnd.jupyter.widget-view+json": {
       "model_id": "8dcbcd85bbe243ca8b996210f9e3c3bf",
       "version_major": 2,
       "version_minor": 0
      },
      "text/plain": [
       "Widget(value=\"<iframe src='http://localhost:53378/index.html?ui=P_0x1bcae5cceb0_16&reconnect=auto' style='widt…"
      ]
     },
     "metadata": {},
     "output_type": "display_data"
    }
   ],
   "source": [
    "\n",
    "m0 = mapdl.k(\"\", 0, -0.1)\n",
    "m1 = mapdl.k(\"\", 0,0.1005)\n",
    "m2 = mapdl.k(\"\",0.005,0.1005)\n",
    "m3 = mapdl.k(\"\",0.005,0.1)\n",
    "m4 = mapdl.k(\"\", 0.1, 0.1)\n",
    "m5 = mapdl.k(\"\", 0.1, -0.1)\n",
    "main = mapdl.a(m0,m1,m2,m3,m4,m5)\n",
    "k0 = mapdl.k(\"\",0, -0.0001)\n",
    "k1 = mapdl.k(\"\", 0.01,0)\n",
    "k2 = mapdl.k(\"\", 0,0.0001)\n",
    "crack = mapdl.a(k0, k1, k2)\n",
    "aout = mapdl.asba(main, crack)\n",
    "mapdl.vext(aout, dz=0.005)\n",
    "mapdl.vplot(show_lines=True, quality=5)"
   ]
  },
  {
   "cell_type": "code",
   "execution_count": 94,
   "id": "c836e450",
   "metadata": {},
   "outputs": [
    {
     "data": {
      "application/vnd.jupyter.widget-view+json": {
       "model_id": "ef1061b8d05d4ced97ab6d083ceab858",
       "version_major": 2,
       "version_minor": 0
      },
      "text/plain": [
       "Widget(value=\"<iframe src='http://localhost:53378/index.html?ui=P_0x1bcc690cd60_18&reconnect=auto' style='widt…"
      ]
     },
     "metadata": {},
     "output_type": "display_data"
    }
   ],
   "source": [
    "mapdl.et(1,\"SOLID285\")\n",
    "#mapdl.et(1, 285)\n",
    "mapdl.smrtsize(1)\n",
    "mapdl.aesize(\"ALL\", 0.001)\n",
    "mapdl.vmesh(1)\n",
    "scon1 = mapdl.k(10000,0.1,0,0)\n",
    "scon2 = mapdl.k(10001,0.2,0,0)\n",
    "mapdl.krefine(1,2,1)\n",
    "mapdl.eplot(vtk=True, show_edges=True, show_axes=False, line_width=2, background=\"w\")"
   ]
  },
  {
   "cell_type": "code",
   "execution_count": 6,
   "id": "2d6b169c-95ff-4504-93a3-be1da05a9a9e",
   "metadata": {},
   "outputs": [
    {
     "data": {
      "text/plain": [
       "PPATH  Point=  2  Node=     191  X,Y,Z= 0.9400E-02 0.6003E-05 0.5000E-02 cs= 11"
      ]
     },
     "execution_count": 6,
     "metadata": {},
     "output_type": "execute_result"
    }
   ],
   "source": []
  },
  {
   "cell_type": "code",
   "execution_count": 19,
   "id": "64d31e77",
   "metadata": {},
   "outputs": [],
   "source": [
    "mapdl.open_gui()"
   ]
  },
  {
   "cell_type": "code",
   "execution_count": 54,
   "id": "2cc3ef4a-e25d-497e-9469-389ef24fef51",
   "metadata": {},
   "outputs": [],
   "source": [
    "# This example will use SI units.\n",
    "mapdl.units(\"SI\")  # SI - International system (m, kg, s, K).\n",
    "\n",
    "# Define a material (nominal steel in SI)\n",
    "mapdl.mp(\"EX\", 1, 210e9)  # Elastic moduli in Pa (kg/(m*s**2))\n",
    "mapdl.mp(\"DENS\", 1, 7800)  # Density in kg/m3\n",
    "mapdl.mp(\"NUXY\", 1, 0.3)  # Poisson's Ratio\n",
    "\n",
    "# Fix the lower side.\n",
    "mapdl.nsel(\"S\", \"LOC\", \"Y\", -0.1)\n",
    "mapdl.d(\"ALL\", \"UY\")\n",
    "mapdl.d(\"ALL\", \"UZ\")\n",
    "mapdl.d(\"ALL\", \"UX\")\n",
    "\n",
    "mapdl.nsel(\"S\", \"LOC\", \"Y\", 0.1)\n",
    "mapdl.cp(5, \"UX\", \"ALL\")\n",
    "\n",
    "#p0 = mapdl.k(\"\", 0, 0.1, 0)\n",
    "#p1 = mapdl.k(\"\", 0, 0.1, 0.005)\n",
    "#p2 = mapdl.k(\"\", 0.005, 0.1, 0.005)\n",
    "#p3 = mapdl.k(\"\",0.005,0.1,0)\n",
    "#loadArea = mapdl.a(p0,p1,p2,p3)\n",
    "#mapdl.asel(\"S\",\"AREA\",vmin = loadArea,vmax = loadArea)\n",
    "mapdl.asel(\"S\",'LOC',\"Y\",0.1005)\n",
    "mapdl.sfa('ALL', '', 'PRES', -250e6)\n",
    "#mapdl.f(\"ALL\", \"FY\", 10000)\n",
    "mapdl.allsel(mute=True)"
   ]
  },
  {
   "cell_type": "code",
   "execution_count": 55,
   "id": "88810ffe-796a-403d-bfe6-c1b2754e8c55",
   "metadata": {},
   "outputs": [],
   "source": [
    "mapdl.run(\"/SOLU\")\n",
    "mapdl.antype(\"STATIC\")\n",
    "mapdl.solve()\n",
    "mapdl.finish(mute=True)"
   ]
  },
  {
   "cell_type": "code",
   "execution_count": 56,
   "id": "b9c9a6b0-4597-4dab-bb32-e521504ef8c8",
   "metadata": {},
   "outputs": [
    {
     "data": {
      "application/vnd.jupyter.widget-view+json": {
       "model_id": "143b89d958254f62bb8176c2dd3e128f",
       "version_major": 2,
       "version_minor": 0
      },
      "text/plain": [
       "Widget(value=\"<iframe src='http://localhost:53378/index.html?ui=P_0x1bc8d0b6aa0_7&reconnect=auto' style='width…"
      ]
     },
     "metadata": {},
     "output_type": "display_data"
    }
   ],
   "source": [
    "# grab the result from the ``mapdl`` instance\n",
    "result = mapdl.result\n",
    "result.plot_principal_nodal_stress(\n",
    "    0,\n",
    "    \"SEQV\",\n",
    "    lighting=False,\n",
    "    background=\"w\",\n",
    "    show_edges=True,\n",
    "    text_color=\"k\",\n",
    "    add_text=False,\n",
    ")\n",
    "\n",
    "nnum, stress = result.principal_nodal_stress(0)\n",
    "von_mises = stress[:, -1]  # von-Mises stress is the right most column\n",
    "\n",
    "# Must use nanmax as stress is not computed at mid-side nodes\n",
    "max_stress = np.nanmax(von_mises)"
   ]
  },
  {
   "cell_type": "code",
   "execution_count": 60,
   "id": "471512c1",
   "metadata": {},
   "outputs": [
    {
     "data": {
      "text/plain": [
       "48"
      ]
     },
     "execution_count": 60,
     "metadata": {},
     "output_type": "execute_result"
    }
   ],
   "source": [
    "mapdl.post1()\n",
    "mapdl.path('P',3,5)\n",
    "node1 = mapdl.queries.node(0.01,0,0)\n",
    "node2 = mapdl.queries.node(0.009,0.0002,0)\n",
    "node3 = mapdl.queries.node(0.006,0.0002,0)\n",
    "node2"
   ]
  },
  {
   "cell_type": "code",
   "execution_count": 61,
   "id": "9c8c4d22",
   "metadata": {},
   "outputs": [],
   "source": [
    "mapdl.ppath(1, node1)\n",
    "mapdl.ppath(2, node2)\n",
    "mapdl.ppath(3, node3)\n",
    "\n",
    "a = mapdl.kcalc(0,1,0,1)"
   ]
  },
  {
   "cell_type": "code",
   "execution_count": 62,
   "id": "f2064bf4",
   "metadata": {},
   "outputs": [
    {
     "name": "stdout",
     "output_type": "stream",
     "text": [
      "K1 is equal to \n"
     ]
    }
   ],
   "source": [
    "words = a.split(' ')\n",
    "# Extracting the K1 value from the String output\n",
    "K1 = words[307][:-1]\n",
    "print(f\"K1 is equal to {K1}\")"
   ]
  },
  {
   "cell_type": "code",
   "execution_count": 16,
   "id": "958ab80f",
   "metadata": {},
   "outputs": [],
   "source": [
    "sif = mapdl.post_processing.nodal_stress_intensity()\n",
    "maxSIF = np.max(sif)"
   ]
  },
  {
   "cell_type": "code",
   "execution_count": 17,
   "id": "5961271c",
   "metadata": {},
   "outputs": [
    {
     "data": {
      "text/plain": [
       "929285836.2052578"
      ]
     },
     "execution_count": 17,
     "metadata": {},
     "output_type": "execute_result"
    }
   ],
   "source": [
    "maxSIF"
   ]
  },
  {
   "cell_type": "code",
   "execution_count": 57,
   "id": "b78796e5-720b-4a65-85b4-0912ef3a841f",
   "metadata": {},
   "outputs": [
    {
     "name": "stdout",
     "output_type": "stream",
     "text": [
      "Far field von mises stress: 2.266953e+08\n"
     ]
    }
   ],
   "source": [
    "# We use nanmean here because mid-side nodes have no stress\n",
    "mask = result.mesh.nodes[:, 0] == 0.1\n",
    "far_field_stress = np.nanmean(von_mises[mask])\n",
    "print(\"Far field von mises stress: %e\" % far_field_stress)\n",
    "# Which almost exactly equals the analytical value of 10000000.0 Pa"
   ]
  },
  {
   "cell_type": "code",
   "execution_count": 58,
   "id": "4549ecb2-58a9-4eb4-882d-a50a4d556537",
   "metadata": {},
   "outputs": [
    {
     "name": "stdout",
     "output_type": "stream",
     "text": [
      "Stress Concentration: 3.65\n"
     ]
    }
   ],
   "source": [
    "stress_con = max_stress / far_field_stress\n",
    "print(\"Stress Concentration: %.2f\" % stress_con)"
   ]
  },
  {
   "cell_type": "code",
   "execution_count": 59,
   "id": "ae248a8c-1768-4e5c-9c5f-1842ed3a5e55",
   "metadata": {},
   "outputs": [],
   "source": [
    "sif = mapdl.post_processing.nodal_stress_intensity()\n",
    "maxSIF = np.max(sif)"
   ]
  },
  {
   "cell_type": "code",
   "execution_count": 60,
   "id": "281080a4-d400-4421-a8fe-1d1c086c9ec2",
   "metadata": {},
   "outputs": [
    {
     "data": {
      "text/plain": [
       "array([3.45556478e+08, 3.79327708e+06, 2.67505553e+08, ...,\n",
       "       2.54322097e+08, 2.61947275e+08, 2.33798139e+08])"
      ]
     },
     "execution_count": 60,
     "metadata": {},
     "output_type": "execute_result"
    }
   ],
   "source": [
    "sif"
   ]
  },
  {
   "cell_type": "code",
   "execution_count": 61,
   "id": "18ea21b6-3aa9-4d2a-ae30-3d4ca6376873",
   "metadata": {},
   "outputs": [
    {
     "data": {
      "text/plain": [
       "929285836.2052511"
      ]
     },
     "execution_count": 61,
     "metadata": {},
     "output_type": "execute_result"
    }
   ],
   "source": [
    "maxSIF =np.max(sif)\n",
    "maxSIF"
   ]
  },
  {
   "cell_type": "code",
   "execution_count": null,
   "id": "2939f56e-2481-4261-b509-1b4a10036b78",
   "metadata": {},
   "outputs": [],
   "source": []
  },
  {
   "cell_type": "code",
   "execution_count": null,
   "id": "699855f1-1bcf-44a8-b152-3c6e09b27c71",
   "metadata": {},
   "outputs": [],
   "source": []
  }
 ],
 "metadata": {
  "kernelspec": {
   "display_name": "Python 3 (ipykernel)",
   "language": "python",
   "name": "python3"
  },
  "language_info": {
   "codemirror_mode": {
    "name": "ipython",
    "version": 3
   },
   "file_extension": ".py",
   "mimetype": "text/x-python",
   "name": "python",
   "nbconvert_exporter": "python",
   "pygments_lexer": "ipython3",
   "version": "3.10.9"
  }
 },
 "nbformat": 4,
 "nbformat_minor": 5
}
