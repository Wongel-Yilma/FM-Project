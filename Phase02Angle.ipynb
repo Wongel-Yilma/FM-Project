{
 "cells": [
  {
   "cell_type": "code",
   "execution_count": 464,
   "id": "bd6c3e26",
   "metadata": {},
   "outputs": [
    {
     "name": "stdout",
     "output_type": "stream",
     "text": [
      "Product:             Ansys Mechanical Enterprise Academic Student\n",
      "MAPDL Version:       23.1\n",
      "ansys.mapdl Version: 0.64.0\n",
      "\n"
     ]
    }
   ],
   "source": [
    "import numpy as np\n",
    "import matplotlib.pyplot as plt\n",
    "from ansys.mapdl.core import launch_mapdl\n",
    "mapdl=launch_mapdl()\n",
    "print(mapdl)"
   ]
  },
  {
   "cell_type": "code",
   "execution_count": 465,
   "id": "b7cb3813",
   "metadata": {},
   "outputs": [
    {
     "data": {
      "text/plain": [
       "*** MAPDL - ENGINEERING ANALYSIS SYSTEM  RELEASE 2023 R1          23.1     ***\n",
       " Ansys Mechanical Enterprise Academic Student      \n",
       " 01055371  VERSION=WINDOWS x64   17:44:21  APR 16, 2023 CP=      0.125\n",
       "\n",
       "                                                                               \n",
       "\n",
       "\n",
       "\n",
       "          ***** MAPDL ANALYSIS DEFINITION (PREP7) *****"
      ]
     },
     "execution_count": 465,
     "metadata": {},
     "output_type": "execute_result"
    }
   ],
   "source": [
    "mapdl.clear()\n",
    "mapdl.prep7()\n"
   ]
  },
  {
   "cell_type": "code",
   "execution_count": 466,
   "id": "f77f7d5e",
   "metadata": {},
   "outputs": [],
   "source": [
    "# Define Material Property\n",
    "E = 210e9\n",
    "nu = 0.3\n",
    "YS = 240e6\n",
    "# Defining Geometry\n",
    "a = 0.02 # Crack length\n",
    "c = 0.03 # Thickness\n",
    "theta1 = np.pi/20\n",
    "theta2 = np.pi/5\n",
    "a1 = 0.02\n",
    "a2 = 0.025\n",
    "x = 0.005"
   ]
  },
  {
   "cell_type": "code",
   "execution_count": 467,
   "id": "71ad8830",
   "metadata": {},
   "outputs": [],
   "source": [
    "# Define Material Property\n",
    "\n",
    "E = 210e9\n",
    "nu = 0.3\n",
    "YS = 240e6\n",
    "a = 0.011\n",
    "    # Defining Geometry \n",
    "    # Corners of the rectangle\n",
    "m0 = mapdl.k(\"\", 0,-0.1)\n",
    "m1 = mapdl.k(\"\",0,0.1)\n",
    "m2 = mapdl.k(\"\",x-0.0025,0.1)\n",
    "m3 = mapdl.k(\"\",x-0.0025,0.1002)\n",
    "m4 = mapdl.k(\"\",x+0.0025,0.1002)\n",
    "m5 =mapdl.k(\"\",x+0.0025,0.1)\n",
    "m6 = mapdl.k(\"\", 0.1, 0.1)\n",
    "m7 = mapdl.k(\"\", 0.1, -0.1)\n",
    "main = mapdl.a(m0,m1,m2,m3,m4,m5,m6,m7)\n",
    "\n",
    "# Defining points for the crack\n",
    "b = 0.0001\n",
    "beta = np.pi/12\n",
    "s1 = np.tan(theta)\n",
    "s2 = np.tan(theta+beta)# lower side\n",
    "s3 = np.tan(theta-beta)# upper side\n",
    "\n",
    "d = a*(np.sin(theta)-np.cos(theta)*s2)\n",
    "e = a*(np.sin(theta)-np.cos(theta)*s3)\n",
    "\n",
    "x1 = (b+d)/(s1-s2)\n",
    "y1 = s1*x1-b\n",
    "x3 = (b-e)/(s3-s1)\n",
    "y3 = s1*x3+b\n",
    "\n"
   ]
  },
  {
   "cell_type": "code",
   "execution_count": 468,
   "id": "c6211604",
   "metadata": {},
   "outputs": [
    {
     "data": {
      "application/vnd.jupyter.widget-view+json": {
       "model_id": "87829ec8e87546f884a0cca6055a754b",
       "version_major": 2,
       "version_minor": 0
      },
      "text/plain": [
       "Widget(value=\"<iframe src='http://localhost:50968/index.html?ui=P_0x1ae13e59fc0_85&reconnect=auto' style='widt…"
      ]
     },
     "metadata": {},
     "output_type": "display_data"
    }
   ],
   "source": [
    "\n",
    "# Crack geometry\n",
    "k0 = mapdl.k(\"\",0,-b)\n",
    "#x1 = 0.8*a*np.cos(theta)\n",
    "#y1= np.tan(theta)*x1-0.001\n",
    "k1 = mapdl.k(\"\",x1,y1)\n",
    "k2 = mapdl.k(\"\",a*np.cos(theta),a*np.sin(theta))\n",
    "#x3 =  0.8*a*np.cos(theta)\n",
    "#y3= np.tan(theta)*x1+0.001\n",
    "k3 = mapdl.k(\"\",x3,y3)\n",
    "k4 = mapdl.k(\"\",0,b)\n",
    "crack = mapdl.a(k0,k1,k2,k3,k4)\n",
    "aout = mapdl.asba(main, crack)\n",
    "mapdl.vext(aout, dz=0.005)\n",
    "mapdl.vplot(show_lines=True, quality=5)"
   ]
  },
  {
   "cell_type": "code",
   "execution_count": 469,
   "id": "0e2d0db0",
   "metadata": {},
   "outputs": [
    {
     "data": {
      "application/vnd.jupyter.widget-view+json": {
       "model_id": "823ef4abbaee439887cea81b87e7a4f5",
       "version_major": 2,
       "version_minor": 0
      },
      "text/plain": [
       "Widget(value=\"<iframe src='http://localhost:50968/index.html?ui=P_0x1aec1c08d30_86&reconnect=auto' style='widt…"
      ]
     },
     "metadata": {},
     "output_type": "display_data"
    }
   ],
   "source": [
    "mapdl.et(1,\"SOLID285\")\n",
    "    # Define the Mesh\n",
    "mapdl.smrtsize(1)\n",
    "mapdl.aesize(\"ALL\", 0.003)\n",
    "mapdl.vmesh(1)\n",
    "\n",
    "mapdl.eplot(vtk=True, show_edges=True, show_axes=False, line_width=2, background=\"w\")"
   ]
  },
  {
   "cell_type": "markdown",
   "id": "674cef53",
   "metadata": {},
   "source": [
    "\n",
    "mapdl.et(1,\"SOLID285\")\n",
    "    # Define the Mesh\n",
    "mapdl.smrtsize(2)\n",
    "mapdl.aesize(\"ALL\", 0.003)\n",
    "mapdl.vmesh(1)\n",
    "scon1 = mapdl.k(10000,0.1,0,0)\n",
    "scon2 = mapdl.k(10001,0.2,0,0)\n",
    "mapdl.eplot(vtk=True, show_edges=True, show_axes=False, line_width=2, background=\"w\")\n"
   ]
  },
  {
   "cell_type": "code",
   "execution_count": 470,
   "id": "c4af7f7d",
   "metadata": {},
   "outputs": [
    {
     "data": {
      "text/plain": [
       "COORDINATE SYSTEM         11 DEFINITION.  TYPE= 0  (CARTESIAN)  \n",
       "   XC,YC,ZC= 0.10865E-01 0.17208E-02  0.0000    \n",
       "   ANGLES=    9.00    0.00    0.00   PARAMETERS=   1.000   1.000\n",
       "   ORIENTATION=  0.99  0.16  0.00  -0.16  0.99  0.00   0.00  0.00  1.00\n",
       "\n",
       " ACTIVE COORDINATE SYSTEM SET TO        11  (CARTESIAN)"
      ]
     },
     "execution_count": 470,
     "metadata": {},
     "output_type": "execute_result"
    }
   ],
   "source": [
    "# Using the SI units\n",
    "press= 250e6\n",
    "mapdl.units(\"SI\")  # SI - International system (m, kg, s, K).\n",
    "\n",
    "# Define a material (nominal steel in SI)\n",
    "mapdl.mp(\"EX\", 1, E)  # Elastic moduli in Pa (kg/(m*s**2))\n",
    "mapdl.mp(\"DENS\", 1, 7800)  # Density in kg/m3\n",
    "mapdl.mp(\"NUXY\", 1, nu)  # Poisson's Ratio\n",
    "# Fix the lower side.\n",
    "mapdl.nsel(\"S\", \"LOC\", \"Y\", -0.1)\n",
    "mapdl.d(\"ALL\", \"UY\")\n",
    "mapdl.d(\"ALL\", \"UZ\")\n",
    "mapdl.d(\"ALL\", \"UX\")\n",
    "\n",
    "mapdl.nsel(\"S\", \"LOC\", \"Y\", 0.1)\n",
    "mapdl.cp(5, \"UX\", \"ALL\")\n",
    "\n",
    "mapdl.asel(\"S\",'LOC',\"Y\",0.1002)\n",
    "mapdl.sfa('ALL', '', 'PRES', -press)\n",
    "mapdl.allsel(mute=True)\n",
    "mapdl.run(\"/SOLU\")\n",
    "mapdl.antype(\"STATIC\")\n",
    "mapdl.solve()\n",
    "mapdl.finish(mute=True)\n",
    "mapdl.post1()\n",
    "mapdl.path('P',3,5)\n",
    "node1 = mapdl.queries.node(a*np.cos(theta),a*np.sin(theta),0)\n",
    "x2 = 0.6*a\n",
    "y2 = s1*x2-b\n",
    "node2 = mapdl.queries.node(x2,y2,0)\n",
    "node3 = mapdl.queries.node(0,-b,0)\n",
    "mapdl.ppath(1, node1)\n",
    "mapdl.ppath(2, node2)\n",
    "mapdl.ppath(3, node3)\n",
    "mapdl.local(11,0,a*np.cos(theta),a*np.sin(theta),0,theta*180/np.pi)\n"
   ]
  },
  {
   "cell_type": "code",
   "execution_count": 471,
   "id": "42c887b7",
   "metadata": {},
   "outputs": [],
   "source": [
    "mapdl.csys(11)\n",
    "k = mapdl.kcalc(0,1,0,0)\n",
    "result = mapdl.result\n"
   ]
  },
  {
   "cell_type": "code",
   "execution_count": 472,
   "id": "9503f2d9",
   "metadata": {},
   "outputs": [
    {
     "name": "stdout",
     "output_type": "stream",
     "text": [
      "K1 is equal to 0.46882E+08\n"
     ]
    },
    {
     "data": {
      "text/plain": [
       "'0.46882E+08'"
      ]
     },
     "execution_count": 472,
     "metadata": {},
     "output_type": "execute_result"
    }
   ],
   "source": [
    " words = k.split(' ')\n",
    "    \n",
    "    # Extracting the K1 value from the String output\n",
    "for i in range(len(words)):\n",
    "    if words[i]=='KI':\n",
    "        x=i\n",
    "K1 = words[x+3][:-1] \n",
    "print(f\"K1 is equal to {K1}\")\n",
    "K1"
   ]
  },
  {
   "cell_type": "code",
   "execution_count": 446,
   "id": "f21d0165",
   "metadata": {},
   "outputs": [],
   "source": [
    "mapdl.exit()"
   ]
  },
  {
   "cell_type": "code",
   "execution_count": null,
   "id": "026bbdb4",
   "metadata": {},
   "outputs": [],
   "source": []
  }
 ],
 "metadata": {
  "kernelspec": {
   "display_name": "Python 3 (ipykernel)",
   "language": "python",
   "name": "python3"
  },
  "language_info": {
   "codemirror_mode": {
    "name": "ipython",
    "version": 3
   },
   "file_extension": ".py",
   "mimetype": "text/x-python",
   "name": "python",
   "nbconvert_exporter": "python",
   "pygments_lexer": "ipython3",
   "version": "3.10.9"
  }
 },
 "nbformat": 4,
 "nbformat_minor": 5
}
