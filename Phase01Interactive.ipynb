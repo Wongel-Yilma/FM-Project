{
 "cells": [
  {
   "cell_type": "code",
   "execution_count": 2,
   "id": "480f8119-1265-4fe5-8fb6-fbf7d0c991ed",
   "metadata": {
    "scrolled": true
   },
   "outputs": [
    {
     "name": "stdout",
     "output_type": "stream",
     "text": [
      "Product:             Ansys Mechanical Enterprise Academic Student\n",
      "MAPDL Version:       23.1\n",
      "ansys.mapdl Version: 0.64.0\n",
      "\n"
     ]
    }
   ],
   "source": [
    "import numpy as np\n",
    "import matplotlib.pyplot as plt\n",
    "from ansys.mapdl.core import launch_mapdl\n",
    "mapdl=launch_mapdl()\n",
    "print(mapdl)"
   ]
  },
  {
   "cell_type": "code",
   "execution_count": 3,
   "id": "aa2ff722-7ef6-42aa-a584-893607b93b42",
   "metadata": {},
   "outputs": [
    {
     "data": {
      "text/plain": [
       "*** MAPDL - ENGINEERING ANALYSIS SYSTEM  RELEASE 2023 R1          23.1     ***\n",
       " Ansys Mechanical Enterprise Academic Student      \n",
       " 01055371  VERSION=WINDOWS x64   02:42:30  APR 20, 2023 CP=      0.156\n",
       "\n",
       "                                                                               \n",
       "\n",
       "\n",
       "\n",
       "          ***** MAPDL ANALYSIS DEFINITION (PREP7) *****"
      ]
     },
     "execution_count": 3,
     "metadata": {},
     "output_type": "execute_result"
    }
   ],
   "source": [
    "mapdl.clear()\n",
    "mapdl.prep7()\n"
   ]
  },
  {
   "cell_type": "code",
   "execution_count": 4,
   "id": "5041d3d8-139c-4062-a734-458ddfcf0357",
   "metadata": {},
   "outputs": [],
   "source": [
    "# Define Material Property\n",
    "E = 210e9\n",
    "nu = 0.3\n",
    "YS = 240e6\n",
    "# Defining Geometry\n",
    "a = 0.01 # Crack length\n",
    "c = 0.03 # Thickness"
   ]
  },
  {
   "cell_type": "code",
   "execution_count": 74,
   "id": "db03033f-ec85-46be-bf67-c523bc12e146",
   "metadata": {
    "scrolled": true
   },
   "outputs": [
    {
     "data": {
      "application/vnd.jupyter.widget-view+json": {
       "model_id": "178601ddf60d4eaea5c1106e8262a8b2",
       "version_major": 2,
       "version_minor": 0
      },
      "text/plain": [
       "Widget(value=\"<iframe src='http://localhost:51009/index.html?ui=P_0x1ef4fa1eef0_14&reconnect=auto' style='widt…"
      ]
     },
     "metadata": {},
     "output_type": "display_data"
    }
   ],
   "source": [
    "\n",
    "# Define Material Property\n",
    "E = 210e9\n",
    "nu = 0.3\n",
    "YS = 240e6\n",
    "a = 0.011\n",
    "    # Defining Geometry \n",
    "    # Corners of the rectangle\n",
    "m0 = mapdl.k(\"\", 0, -0.1)\n",
    "m1 = mapdl.k(\"\", 0,0.1002)\n",
    "m2 = mapdl.k(\"\",0.005,0.1002)\n",
    "m3 = mapdl.k(\"\",0.005,0.1)\n",
    "m4 = mapdl.k(\"\", 0.1, 0.1)\n",
    "m5 = mapdl.k(\"\", 0.1, -0.1)\n",
    "main = mapdl.a(m0,m1,m2,m3,m4,m5)\n",
    "    # Crack geometry\n",
    "k0 = mapdl.k(\"\",0,-0.00001)\n",
    "k1 = mapdl.k(\"\",0.1*a,-0.00001)\n",
    "k2 = mapdl.k(\"\",a,0)\n",
    "k3 = mapdl.k(\"\",0.1*a,0.00001)\n",
    "k4 = mapdl.k(\"\",0,0.00001)\n",
    "crack = mapdl.a(k0, k1, k2,k3,k4)\n",
    "aout = mapdl.asba(main, crack)\n",
    "mapdl.vext(aout, dz=0.005)\n",
    "mapdl.vplot(show_lines=True, quality=10,color_areas=True)"
   ]
  },
  {
   "cell_type": "code",
   "execution_count": 5,
   "id": "fdf4a6f7",
   "metadata": {},
   "outputs": [
    {
     "data": {
      "application/vnd.jupyter.widget-view+json": {
       "model_id": "d3e9bbdc35684834a06c644b8fafbda9",
       "version_major": 2,
       "version_minor": 0
      },
      "text/plain": [
       "Widget(value=\"<iframe src='http://localhost:58852/index.html?ui=P_0x179992d1e70_0&reconnect=auto' style='width…"
      ]
     },
     "metadata": {},
     "output_type": "display_data"
    }
   ],
   "source": [
    "# Define Material Property\n",
    "E = 210e9\n",
    "nu = 0.3\n",
    "YS = 240e6\n",
    "a = 0.011\n",
    "    # Defining Geometry \n",
    "    # Corners of the rectangle\n",
    "m0 = mapdl.k(\"\", 0, -0.1)\n",
    "m1 = mapdl.k(\"\", 0,0.1)\n",
    "m4 = mapdl.k(\"\", 0.1, 0.1)\n",
    "m5 = mapdl.k(\"\", 0.1, -0.1)\n",
    "main = mapdl.a(m0,m1,m4,m5)\n",
    "    # Crack geometry\n",
    "k0 = mapdl.k(\"\",0,-0.00001)\n",
    "k1 = mapdl.k(\"\",0.1*a,-0.00001)\n",
    "k2 = mapdl.k(\"\",a,0)\n",
    "k3 = mapdl.k(\"\",0.1*a,0.00001)\n",
    "k4 = mapdl.k(\"\",0,0.00001)\n",
    "crack = mapdl.a(k0, k1, k2,k3,k4)\n",
    "aout = mapdl.asba(main, crack)\n",
    "mapdl.vext(aout, dz=0.005)\n",
    "mapdl.vplot(show_lines=True, quality=10,color_areas=True)"
   ]
  },
  {
   "cell_type": "code",
   "execution_count": 75,
   "id": "9b5abfaf",
   "metadata": {},
   "outputs": [
    {
     "data": {
      "text/plain": [
       "<SelectionStatus.SELECTED: 1>"
      ]
     },
     "execution_count": 75,
     "metadata": {},
     "output_type": "execute_result"
    }
   ],
   "source": [
    "scon1 = mapdl.k(10000,a,0,0)\n",
    "mapdl.queries.ksel(scon1)"
   ]
  },
  {
   "cell_type": "code",
   "execution_count": 6,
   "id": "c836e450",
   "metadata": {},
   "outputs": [
    {
     "data": {
      "application/vnd.jupyter.widget-view+json": {
       "model_id": "4eb1f50f4e9f47c287af1f26de7daa9f",
       "version_major": 2,
       "version_minor": 0
      },
      "text/plain": [
       "Widget(value=\"<iframe src='http://localhost:58852/index.html?ui=P_0x179998ba0b0_1&reconnect=auto' style='width…"
      ]
     },
     "metadata": {},
     "output_type": "display_data"
    }
   ],
   "source": [
    "mapdl.et(1,\"SOLID285\")\n",
    "mapdl.smrtsize(3)\n",
    "\n",
    "mapdl.aesize(\"ALL\", 0.002)\n",
    "\n",
    "mapdl.vmesh(1)\n",
    "\n",
    "mapdl.eplot(vtk=True, show_edges=True, show_axes=False, line_width=2, background=\"w\")"
   ]
  },
  {
   "cell_type": "code",
   "execution_count": 9,
   "id": "2cc3ef4a-e25d-497e-9469-389ef24fef51",
   "metadata": {},
   "outputs": [
    {
     "data": {
      "application/vnd.jupyter.widget-view+json": {
       "model_id": "0f6ba8ef421346f88427fc8863c9108b",
       "version_major": 2,
       "version_minor": 0
      },
      "text/plain": [
       "Widget(value=\"<iframe src='http://localhost:58852/index.html?ui=P_0x17998027550_2&reconnect=auto' style='width…"
      ]
     },
     "metadata": {},
     "output_type": "display_data"
    }
   ],
   "source": [
    " # Using the SI units\n",
    "mapdl.units(\"SI\")  # SI - International system (m, kg, s, K).\n",
    "\n",
    "    # Define a material (nominal steel in SI)\n",
    "mapdl.mp(\"EX\", 1, E)  # Elastic moduli in Pa (kg/(m*s**2))\n",
    "mapdl.mp(\"DENS\", 1, 7800)  # Density in kg/m3\n",
    "mapdl.mp(\"NUXY\", 1, nu)  # Poisson's Ratio\n",
    "\n",
    "    # Fix the lower side.\n",
    "mapdl.nsel(\"S\", \"LOC\", \"Y\", -0.1)\n",
    "mapdl.d(\"ALL\", \"UY\")\n",
    "mapdl.d(\"ALL\", \"UZ\")\n",
    "mapdl.d(\"ALL\", \"UX\")\n",
    "\n",
    "mapdl.nsel(\"S\", \"LOC\", \"Y\", 0.1)\n",
    "mapdl.cp(5, \"UX\", \"ALL\")\n",
    "\n",
    "mapdl.asel(\"S\",'LOC',\"Y\",0.1)\n",
    "mapdl.sfa('ALL', '', 'PRES', -100e6)\n",
    "mapdl.allsel(mute=True)\n",
    "mapdl.run(\"/SOLU\")\n",
    "mapdl.antype(\"STATIC\")\n",
    "mapdl.solve()\n",
    "mapdl.finish(mute=True)\n",
    "mapdl.post1()\n",
    "mapdl.path('P',3,5)\n",
    "node1 = mapdl.queries.node(a,0,0)\n",
    "node2 = mapdl.queries.node(0.5*a,0.0001,0)\n",
    "node3 = mapdl.queries.node(0,0.0001,0)\n",
    "mapdl.ppath(1, node1)\n",
    "mapdl.ppath(2, node2)\n",
    "mapdl.ppath(3, node3)\n",
    "mapdl.local(11,0,a,0,0)\n",
    "mapdl.csys(11)\n",
    "a = mapdl.kcalc(0,1,0,0)\n",
    "result = mapdl.result\n",
    "# grab the result from the ``mapdl`` instance\n",
    "result = mapdl.result\n",
    "result.plot_principal_nodal_stress(\n",
    "    0,\n",
    "    \"SEQV\",\n",
    "    lighting=False,\n",
    "    background=\"w\",\n",
    "    show_edges=True,\n",
    "    text_color=\"k\",\n",
    "    add_text=False,\n",
    ")\n",
    "\n",
    "nnum, stress = result.principal_nodal_stress(0)\n",
    "von_mises = stress[:, -1]  # von-Mises stress is the right most column\n",
    "\n",
    "# Must use nanmax as stress is not computed at mid-side nodes\n",
    "max_stress = np.nanmax(von_mises)"
   ]
  },
  {
   "cell_type": "code",
   "execution_count": 10,
   "id": "88810ffe-796a-403d-bfe6-c1b2754e8c55",
   "metadata": {},
   "outputs": [],
   "source": [
    "mapdl.run(\"/SOLU\")\n",
    "mapdl.antype(\"STATIC\")\n",
    "mapdl.solve()\n",
    "mapdl.finish(mute=True)"
   ]
  },
  {
   "cell_type": "code",
   "execution_count": 81,
   "id": "b78796e5-720b-4a65-85b4-0912ef3a841f",
   "metadata": {},
   "outputs": [
    {
     "name": "stdout",
     "output_type": "stream",
     "text": [
      "Far field von mises stress: 8.990871e+07\n"
     ]
    }
   ],
   "source": [
    "# We use nanmean here because mid-side nodes have no stress\n",
    "mask = result.mesh.nodes[:, 0] == 0.1\n",
    "far_field_stress = np.nanmean(von_mises[mask])\n",
    "print(\"Far field von mises stress: %e\" % far_field_stress)\n",
    "# Which almost exactly equals the analytical value of 10000000.0 Pa"
   ]
  },
  {
   "cell_type": "code",
   "execution_count": 66,
   "id": "4549ecb2-58a9-4eb4-882d-a50a4d556537",
   "metadata": {},
   "outputs": [
    {
     "name": "stdout",
     "output_type": "stream",
     "text": [
      "Stress Concentration: 2.71\n"
     ]
    }
   ],
   "source": [
    "stress_con = max_stress / far_field_stress\n",
    "print(\"Stress Concentration: %.2f\" % stress_con)"
   ]
  },
  {
   "cell_type": "code",
   "execution_count": 59,
   "id": "ae248a8c-1768-4e5c-9c5f-1842ed3a5e55",
   "metadata": {},
   "outputs": [],
   "source": [
    "sif = mapdl.post_processing.nodal_stress_intensity()\n",
    "maxSIF = np.max(sif)"
   ]
  },
  {
   "cell_type": "code",
   "execution_count": 11,
   "id": "281080a4-d400-4421-a8fe-1d1c086c9ec2",
   "metadata": {},
   "outputs": [
    {
     "name": "stdout",
     "output_type": "stream",
     "text": [
      "K1 is equal to 0.21118E+08\n"
     ]
    }
   ],
   "source": [
    "words = a.split(' ')\n",
    "    \n",
    "    # Extracting the K1 value from the String output\n",
    "for i in range(len(words)):\n",
    "    if words[i]=='KI':\n",
    "        x=i\n",
    "K1 = words[x+3][:-1] \n",
    "print(f\"K1 is equal to {K1}\")\n",
    "  "
   ]
  },
  {
   "cell_type": "code",
   "execution_count": null,
   "id": "2939f56e-2481-4261-b509-1b4a10036b78",
   "metadata": {},
   "outputs": [],
   "source": []
  },
  {
   "cell_type": "code",
   "execution_count": null,
   "id": "699855f1-1bcf-44a8-b152-3c6e09b27c71",
   "metadata": {},
   "outputs": [],
   "source": []
  }
 ],
 "metadata": {
  "kernelspec": {
   "display_name": "Python 3 (ipykernel)",
   "language": "python",
   "name": "python3"
  },
  "language_info": {
   "codemirror_mode": {
    "name": "ipython",
    "version": 3
   },
   "file_extension": ".py",
   "mimetype": "text/x-python",
   "name": "python",
   "nbconvert_exporter": "python",
   "pygments_lexer": "ipython3",
   "version": "3.10.9"
  }
 },
 "nbformat": 4,
 "nbformat_minor": 5
}
