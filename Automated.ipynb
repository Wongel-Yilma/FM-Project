{
 "cells": [
  {
   "cell_type": "code",
   "execution_count": 13,
   "id": "edfd907a",
   "metadata": {},
   "outputs": [
    {
     "name": "stdout",
     "output_type": "stream",
     "text": [
      "Product:             Ansys Mechanical Enterprise Academic Student\n",
      "MAPDL Version:       23.1\n",
      "ansys.mapdl Version: 0.64.0\n",
      "\n"
     ]
    }
   ],
   "source": [
    "import numpy as np\n",
    "import matplotlib.pyplot as plt\n",
    "from ansys.mapdl.core import launch_mapdl\n",
    "mapdl=launch_mapdl()\n",
    "print(mapdl)"
   ]
  },
  {
   "cell_type": "code",
   "execution_count": 19,
   "id": "a72655a9",
   "metadata": {},
   "outputs": [],
   "source": [
    "# Takes in Pressure, Crack length and Thickness\n",
    "def calculateK (press,a,t):\n",
    "    mapdl.clear()\n",
    "    mapdl.prep7()\n",
    "    \n",
    "    # Define Material Property\n",
    "    E = 210e9\n",
    "    nu = 0.3\n",
    "    YS = 240e6\n",
    "    # Defining Geometry \n",
    "    # Corners of the rectangle\n",
    "    m0 = mapdl.k(\"\", 0, -0.1)\n",
    "    m1 = mapdl.k(\"\", 0,0.1002)\n",
    "    m2 = mapdl.k(\"\",0.0005,0.1002)\n",
    "    m3 = mapdl.k(\"\",0.0005,0.1)\n",
    "    m4 = mapdl.k(\"\", 0.1, 0.1)\n",
    "    m5 = mapdl.k(\"\", 0.1, -0.1)\n",
    "    main = mapdl.a(m0,m1,m2,m3,m4,m5)\n",
    "    # Crack geometry\n",
    "    k0 = mapdl.k(\"\",0,-0.00001)\n",
    "    k1 = mapdl.k(\"\",0.1*a,-0.00001)\n",
    "    k2 = mapdl.k(\"\",a,0)\n",
    "    k3 = mapdl.k(\"\",0.1*a,0.00001)\n",
    "    k4 = mapdl.k(\"\",0,0.00001)\n",
    "    crack = mapdl.a(k0, k1, k2,k3,k4)\n",
    "    # Substract the areas and extrude with Thickness t\n",
    "    aout = mapdl.asba(main, crack)\n",
    "    mapdl.vext(aout, dz=t)\n",
    "    # mapdl.vplot(show_lines=True, quality=5)\n",
    "    mapdl.et(1,\"SOLID285\")\n",
    "    # Define the Mesh\n",
    "    mapdl.smrtsize(4)\n",
    "    mapdl.aesize(\"ALL\", 0.003)\n",
    "    mapdl.vmesh(1)\n",
    "    scon1 = mapdl.k(10000,0.1,0,0)\n",
    "    scon2 = mapdl.k(10001,0.2,0,0)\n",
    "    \n",
    "    # mapdl.eplot(vtk=True, show_edges=True, show_axes=False, line_width=2, background=\"w\")\n",
    "    \n",
    "    # Using the SI units\n",
    "    mapdl.units(\"SI\")  # SI - International system (m, kg, s, K).\n",
    "\n",
    "    # Define a material (nominal steel in SI)\n",
    "    mapdl.mp(\"EX\", 1, E)  # Elastic moduli in Pa (kg/(m*s**2))\n",
    "    mapdl.mp(\"DENS\", 1, 7800)  # Density in kg/m3\n",
    "    mapdl.mp(\"NUXY\", 1, nu)  # Poisson's Ratio\n",
    "\n",
    "    # Fix the lower side.\n",
    "    mapdl.nsel(\"S\", \"LOC\", \"Y\", -0.1)\n",
    "    mapdl.d(\"ALL\", \"UY\")\n",
    "    mapdl.d(\"ALL\", \"UZ\")\n",
    "    mapdl.d(\"ALL\", \"UX\")\n",
    "\n",
    "    mapdl.nsel(\"S\", \"LOC\", \"Y\", 0.1)\n",
    "    mapdl.cp(5, \"UX\", \"ALL\")\n",
    "\n",
    "    mapdl.asel(\"S\",'LOC',\"Y\",0.1002)\n",
    "    mapdl.sfa('ALL', '', 'PRES', -press)\n",
    "    mapdl.allsel(mute=True)\n",
    "    mapdl.run(\"/SOLU\")\n",
    "    mapdl.antype(\"STATIC\")\n",
    "    mapdl.solve()\n",
    "    mapdl.finish(mute=True)\n",
    "    mapdl.post1()\n",
    "    mapdl.path('P',3,5)\n",
    "    node1 = mapdl.queries.node(a,0,0)\n",
    "    node2 = mapdl.queries.node(0.5*a,0.0001,0)\n",
    "    node3 = mapdl.queries.node(0,0.0001,0)\n",
    "    mapdl.ppath(1, node1)\n",
    "    mapdl.ppath(2, node2)\n",
    "    mapdl.ppath(3, node3)\n",
    "    mapdl.local(11,0,a,0,0)\n",
    "    mapdl.csys(11)\n",
    "    a = mapdl.kcalc(0,1,0,0)\n",
    "    result = mapdl.result\n",
    "    #result.plot_principal_nodal_stress(\n",
    "    #    0,\n",
    "    #    \"SEQV\",\n",
    "    #    lighting=False,\n",
    "    #    background=\"w\",\n",
    "    #    show_edges=True,\n",
    "    #    text_color=\"k\",\n",
    "    #    add_text=False,\n",
    "    #    )\n",
    "    words = a.split(' ')\n",
    "    \n",
    "    # Extracting the K1 value from the String output\n",
    "    for i in range(len(words)):\n",
    "        if words[i]=='KI':\n",
    "            x=i\n",
    "    K1 = words[x+3][:-1] \n",
    "    print(f\"K1 is equal to {K1}\")\n",
    "    return K1"
   ]
  },
  {
   "cell_type": "code",
   "execution_count": 20,
   "id": "abec07a1",
   "metadata": {},
   "outputs": [
    {
     "name": "stdout",
     "output_type": "stream",
     "text": [
      "50000000.0; 0.009; 0.004\n"
     ]
    },
    {
     "ename": "MapdlRuntimeError",
     "evalue": "\n\nError in instance GRPC_127.0.0.1:50053\n\n*** ERROR ***                           CP =       9.484   TIME= 19:11:45\n Volume 1 cannot be meshed.  26 location(s) found where non-adjacent     \n boundary triangles touch.  Geometry configuration may not be valid or   \n smaller element size definition may be required.                        \n\n *** ERROR ***                           CP =       9.484   TIME= 19:11:45\n Volume mesh failure - perhaps due to:                                   \n  (1) Poorly shaped triangle facets: Mesh surfaces with triangular       \n elements, modify mesh control to get good triangular mesh, then VMESH   \n again.                                                                  \n  (2) Complex geometry: Subdivide volume and try again.                  \n\n *** NOTE ",
     "output_type": "error",
     "traceback": [
      "\u001b[1;31m---------------------------------------------------------------------------\u001b[0m",
      "\u001b[1;31mMapdlRuntimeError\u001b[0m                         Traceback (most recent call last)",
      "Cell \u001b[1;32mIn[20], line 12\u001b[0m\n\u001b[0;32m     10\u001b[0m \u001b[38;5;28;01mfor\u001b[39;00m k \u001b[38;5;129;01min\u001b[39;00m \u001b[38;5;28mrange\u001b[39m(\u001b[38;5;28mlen\u001b[39m(T)):\n\u001b[0;32m     11\u001b[0m     \u001b[38;5;28mprint\u001b[39m(\u001b[38;5;124mf\u001b[39m\u001b[38;5;124m\"\u001b[39m\u001b[38;5;132;01m{\u001b[39;00mP[i]\u001b[38;5;132;01m}\u001b[39;00m\u001b[38;5;124m; \u001b[39m\u001b[38;5;132;01m{\u001b[39;00mA[j]\u001b[38;5;132;01m}\u001b[39;00m\u001b[38;5;124m; \u001b[39m\u001b[38;5;132;01m{\u001b[39;00mT[k]\u001b[38;5;132;01m}\u001b[39;00m\u001b[38;5;124m\"\u001b[39m)\n\u001b[1;32m---> 12\u001b[0m     K1 \u001b[38;5;241m=\u001b[39m \u001b[43mcalculateK\u001b[49m\u001b[43m(\u001b[49m\u001b[43mP\u001b[49m\u001b[43m[\u001b[49m\u001b[43mi\u001b[49m\u001b[43m]\u001b[49m\u001b[43m,\u001b[49m\u001b[43mA\u001b[49m\u001b[43m[\u001b[49m\u001b[43mj\u001b[49m\u001b[43m]\u001b[49m\u001b[43m,\u001b[49m\u001b[43mT\u001b[49m\u001b[43m[\u001b[49m\u001b[43mk\u001b[49m\u001b[43m]\u001b[49m\u001b[43m)\u001b[49m\n\u001b[0;32m     14\u001b[0m     data[count,\u001b[38;5;241m0\u001b[39m] \u001b[38;5;241m=\u001b[39m P[i]\n\u001b[0;32m     15\u001b[0m     data[count,\u001b[38;5;241m1\u001b[39m] \u001b[38;5;241m=\u001b[39m A[j]\n",
      "Cell \u001b[1;32mIn[19], line 34\u001b[0m, in \u001b[0;36mcalculateK\u001b[1;34m(press, a, t)\u001b[0m\n\u001b[0;32m     32\u001b[0m mapdl\u001b[38;5;241m.\u001b[39msmrtsize(\u001b[38;5;241m4\u001b[39m)\n\u001b[0;32m     33\u001b[0m mapdl\u001b[38;5;241m.\u001b[39maesize(\u001b[38;5;124m\"\u001b[39m\u001b[38;5;124mALL\u001b[39m\u001b[38;5;124m\"\u001b[39m, \u001b[38;5;241m0.003\u001b[39m)\n\u001b[1;32m---> 34\u001b[0m \u001b[43mmapdl\u001b[49m\u001b[38;5;241;43m.\u001b[39;49m\u001b[43mvmesh\u001b[49m\u001b[43m(\u001b[49m\u001b[38;5;241;43m1\u001b[39;49m\u001b[43m)\u001b[49m\n\u001b[0;32m     35\u001b[0m scon1 \u001b[38;5;241m=\u001b[39m mapdl\u001b[38;5;241m.\u001b[39mk(\u001b[38;5;241m10000\u001b[39m,\u001b[38;5;241m0.1\u001b[39m,\u001b[38;5;241m0\u001b[39m,\u001b[38;5;241m0\u001b[39m)\n\u001b[0;32m     36\u001b[0m scon2 \u001b[38;5;241m=\u001b[39m mapdl\u001b[38;5;241m.\u001b[39mk(\u001b[38;5;241m10001\u001b[39m,\u001b[38;5;241m0.2\u001b[39m,\u001b[38;5;241m0\u001b[39m,\u001b[38;5;241m0\u001b[39m)\n",
      "File \u001b[1;32m~\\anaconda3\\lib\\site-packages\\ansys\\mapdl\\core\\_commands\\preproc\\meshing.py:2908\u001b[0m, in \u001b[0;36mMeshing.vmesh\u001b[1;34m(self, nv1, nv2, ninc, **kwargs)\u001b[0m\n\u001b[0;32m   2873\u001b[0m \u001b[38;5;124;03m\"\"\"Generates nodes and volume elements within volumes.\u001b[39;00m\n\u001b[0;32m   2874\u001b[0m \n\u001b[0;32m   2875\u001b[0m \u001b[38;5;124;03mAPDL Command: VMESH\u001b[39;00m\n\u001b[1;32m   (...)\u001b[0m\n\u001b[0;32m   2905\u001b[0m \u001b[38;5;124;03m>>> mapdl.vmesh(1)\u001b[39;00m\n\u001b[0;32m   2906\u001b[0m \u001b[38;5;124;03m\"\"\"\u001b[39;00m\n\u001b[0;32m   2907\u001b[0m command \u001b[38;5;241m=\u001b[39m \u001b[38;5;124mf\u001b[39m\u001b[38;5;124m\"\u001b[39m\u001b[38;5;124mVMESH,\u001b[39m\u001b[38;5;132;01m{\u001b[39;00mnv1\u001b[38;5;132;01m}\u001b[39;00m\u001b[38;5;124m,\u001b[39m\u001b[38;5;132;01m{\u001b[39;00mnv2\u001b[38;5;132;01m}\u001b[39;00m\u001b[38;5;124m,\u001b[39m\u001b[38;5;132;01m{\u001b[39;00mninc\u001b[38;5;132;01m}\u001b[39;00m\u001b[38;5;124m\"\u001b[39m\n\u001b[1;32m-> 2908\u001b[0m \u001b[38;5;28;01mreturn\u001b[39;00m \u001b[38;5;28mself\u001b[39m\u001b[38;5;241m.\u001b[39mrun(command, \u001b[38;5;241m*\u001b[39m\u001b[38;5;241m*\u001b[39mkwargs)\n",
      "File \u001b[1;32m~\\anaconda3\\lib\\site-packages\\ansys\\mapdl\\core\\mapdl.py:2882\u001b[0m, in \u001b[0;36m_MapdlCore.run\u001b[1;34m(self, command, write_to_log, mute, **kwargs)\u001b[0m\n\u001b[0;32m   2880\u001b[0m     \u001b[38;5;66;03m# flag errors\u001b[39;00m\n\u001b[0;32m   2881\u001b[0m     \u001b[38;5;28;01mif\u001b[39;00m \u001b[38;5;124m\"\u001b[39m\u001b[38;5;124m*** ERROR ***\u001b[39m\u001b[38;5;124m\"\u001b[39m \u001b[38;5;129;01min\u001b[39;00m \u001b[38;5;28mself\u001b[39m\u001b[38;5;241m.\u001b[39m_response:\n\u001b[1;32m-> 2882\u001b[0m         \u001b[38;5;28;43mself\u001b[39;49m\u001b[38;5;241;43m.\u001b[39;49m\u001b[43m_raise_output_errors\u001b[49m\u001b[43m(\u001b[49m\u001b[38;5;28;43mself\u001b[39;49m\u001b[38;5;241;43m.\u001b[39;49m\u001b[43m_response\u001b[49m\u001b[43m)\u001b[49m\n\u001b[0;32m   2884\u001b[0m \u001b[38;5;66;03m# special returns for certain geometry commands\u001b[39;00m\n\u001b[0;32m   2885\u001b[0m short_cmd \u001b[38;5;241m=\u001b[39m parse_to_short_cmd(command)\n",
      "File \u001b[1;32m~\\anaconda3\\lib\\site-packages\\ansys\\mapdl\\core\\mapdl.py:3880\u001b[0m, in \u001b[0;36m_MapdlCore._raise_output_errors\u001b[1;34m(self, response)\u001b[0m\n\u001b[0;32m   3874\u001b[0m     \u001b[38;5;28;01mcontinue\u001b[39;00m\n\u001b[0;32m   3875\u001b[0m \u001b[38;5;28;01melse\u001b[39;00m:\n\u001b[0;32m   3876\u001b[0m     \u001b[38;5;66;03m# We don't need to log exception because they already included in the main logger.\u001b[39;00m\n\u001b[0;32m   3877\u001b[0m     \u001b[38;5;66;03m# logger.error(response)\u001b[39;00m\n\u001b[0;32m   3878\u001b[0m     \u001b[38;5;66;03m# However, exceptions are recorded in the global logger which do not record\u001b[39;00m\n\u001b[0;32m   3879\u001b[0m     \u001b[38;5;66;03m# information of the instances name, hence we edit the error message.\u001b[39;00m\n\u001b[1;32m-> 3880\u001b[0m     \u001b[38;5;28;01mraise\u001b[39;00m MapdlRuntimeError(\n\u001b[0;32m   3881\u001b[0m         \u001b[38;5;124mf\u001b[39m\u001b[38;5;124m\"\u001b[39m\u001b[38;5;130;01m\\n\u001b[39;00m\u001b[38;5;130;01m\\n\u001b[39;00m\u001b[38;5;124mError in instance \u001b[39m\u001b[38;5;132;01m{\u001b[39;00m\u001b[38;5;28mself\u001b[39m\u001b[38;5;241m.\u001b[39mname\u001b[38;5;132;01m}\u001b[39;00m\u001b[38;5;130;01m\\n\u001b[39;00m\u001b[38;5;130;01m\\n\u001b[39;00m\u001b[38;5;124m\"\u001b[39m \u001b[38;5;241m+\u001b[39m error_message\n\u001b[0;32m   3882\u001b[0m     )\n",
      "\u001b[1;31mMapdlRuntimeError\u001b[0m: \n\nError in instance GRPC_127.0.0.1:50053\n\n*** ERROR ***                           CP =       9.484   TIME= 19:11:45\n Volume 1 cannot be meshed.  26 location(s) found where non-adjacent     \n boundary triangles touch.  Geometry configuration may not be valid or   \n smaller element size definition may be required.                        \n\n *** ERROR ***                           CP =       9.484   TIME= 19:11:45\n Volume mesh failure - perhaps due to:                                   \n  (1) Poorly shaped triangle facets: Mesh surfaces with triangular       \n elements, modify mesh control to get good triangular mesh, then VMESH   \n again.                                                                  \n  (2) Complex geometry: Subdivide volume and try again.                  \n\n *** NOTE "
     ]
    }
   ],
   "source": [
    "P = [50e6,100e6,150e6,200e6]\n",
    "#A = np.arange(0.01,0.015,0.001) \n",
    "A = [0.009,0.010, 0.011,0.012]\n",
    "#T = np.arange(0.004,0.012,0.001)\n",
    "T = [0.004, 0.005, 0.006,0.007]\n",
    "data = np.zeros((len(P)*len(A)*len(T),4))\n",
    "count =0\n",
    "for i in range(len(P)):\n",
    "    for j in range(len(A)):\n",
    "        for k in range(len(T)):\n",
    "            print(f\"{P[i]}; {A[j]}; {T[k]}\")\n",
    "            K1 = calculateK(P[i],A[j],T[k])\n",
    "            \n",
    "            data[count,0] = P[i]\n",
    "            data[count,1] = A[j]\n",
    "            data[count,2] = T[k]\n",
    "            data[count,3] = K1\n",
    "            Area= 0.005*data[i,2]\n",
    "            Force = mat[i,0]*Area\n",
    "            mat[i,0] = Force\n",
    "            count=count+1    \n",
    "      \n",
    "            \n",
    "        "
   ]
  },
  {
   "cell_type": "code",
   "execution_count": 11,
   "id": "d5f42815",
   "metadata": {},
   "outputs": [
    {
     "data": {
      "text/plain": [
       "array([[0., 0., 0., 0.],\n",
       "       [0., 0., 0., 0.],\n",
       "       [0., 0., 0., 0.],\n",
       "       [0., 0., 0., 0.],\n",
       "       [0., 0., 0., 0.],\n",
       "       [0., 0., 0., 0.],\n",
       "       [0., 0., 0., 0.],\n",
       "       [0., 0., 0., 0.],\n",
       "       [0., 0., 0., 0.],\n",
       "       [0., 0., 0., 0.]])"
      ]
     },
     "execution_count": 11,
     "metadata": {},
     "output_type": "execute_result"
    }
   ],
   "source": [
    "data[10:20,:]"
   ]
  },
  {
   "cell_type": "code",
   "execution_count": 5,
   "id": "e2a2e7b8",
   "metadata": {},
   "outputs": [
    {
     "data": {
      "text/plain": [
       "1309"
      ]
     },
     "execution_count": 5,
     "metadata": {},
     "output_type": "execute_result"
    }
   ],
   "source": [
    "len(data)"
   ]
  },
  {
   "cell_type": "code",
   "execution_count": 8,
   "id": "c54b813e",
   "metadata": {},
   "outputs": [
    {
     "data": {
      "text/plain": [
       "1309"
      ]
     },
     "execution_count": 8,
     "metadata": {},
     "output_type": "execute_result"
    }
   ],
   "source": [
    "a =len(P)*len(A)*len(T)\n",
    "a"
   ]
  },
  {
   "cell_type": "code",
   "execution_count": 60,
   "id": "75c5e0f7",
   "metadata": {},
   "outputs": [],
   "source": [
    "np.save('data54.npy',data)"
   ]
  },
  {
   "cell_type": "code",
   "execution_count": null,
   "id": "26253acd",
   "metadata": {},
   "outputs": [],
   "source": []
  }
 ],
 "metadata": {
  "kernelspec": {
   "display_name": "Python 3 (ipykernel)",
   "language": "python",
   "name": "python3"
  },
  "language_info": {
   "codemirror_mode": {
    "name": "ipython",
    "version": 3
   },
   "file_extension": ".py",
   "mimetype": "text/x-python",
   "name": "python",
   "nbconvert_exporter": "python",
   "pygments_lexer": "ipython3",
   "version": "3.10.9"
  }
 },
 "nbformat": 4,
 "nbformat_minor": 5
}
