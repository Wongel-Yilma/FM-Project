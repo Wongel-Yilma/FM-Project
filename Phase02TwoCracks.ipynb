{
 "cells": [
  {
   "cell_type": "code",
   "execution_count": 7,
   "id": "a4ef9f6d",
   "metadata": {},
   "outputs": [
    {
     "name": "stdout",
     "output_type": "stream",
     "text": [
      "Product:             Ansys Mechanical Enterprise Academic Student\n",
      "MAPDL Version:       23.1\n",
      "ansys.mapdl Version: 0.64.0\n",
      "\n"
     ]
    }
   ],
   "source": [
    "import numpy as np\n",
    "import matplotlib.pyplot as plt\n",
    "from ansys.mapdl.core import launch_mapdl\n",
    "mapdl=launch_mapdl()\n",
    "print(mapdl)"
   ]
  },
  {
   "cell_type": "code",
   "execution_count": 17,
   "id": "dd3e02ad",
   "metadata": {},
   "outputs": [
    {
     "data": {
      "text/plain": [
       "*** MAPDL - ENGINEERING ANALYSIS SYSTEM  RELEASE 2023 R1          23.1     ***\n",
       " Ansys Mechanical Enterprise Academic Student      \n",
       " 01055371  VERSION=WINDOWS x64   08:51:05  APR 19, 2023 CP=      5.000\n",
       "\n",
       "                                                                               \n",
       "\n",
       "\n",
       "\n",
       "          ***** MAPDL ANALYSIS DEFINITION (PREP7) *****"
      ]
     },
     "execution_count": 17,
     "metadata": {},
     "output_type": "execute_result"
    }
   ],
   "source": [
    "mapdl.clear()\n",
    "mapdl.prep7()\n"
   ]
  },
  {
   "cell_type": "code",
   "execution_count": 18,
   "id": "e33ca115",
   "metadata": {},
   "outputs": [],
   "source": [
    "# Define Material Property\n",
    "E = 210e9\n",
    "nu = 0.3\n",
    "YS = 240e6\n",
    "# Defining Geometry\n",
    "a1 = 0.02 # Crack length\n",
    "a2 = 0.02\n",
    "c = 0.03 # Thickness\n",
    "theta1 = np.pi/20\n",
    "theta2 = -np.pi/20\n",
    "x = 0.005\n",
    "shift = 0.02"
   ]
  },
  {
   "cell_type": "code",
   "execution_count": 19,
   "id": "cc94bb64",
   "metadata": {},
   "outputs": [],
   "source": [
    "# Define Material Property\n",
    "\n",
    "    # Defining Geometry \n",
    "    # Corners of the rectangle\n",
    "m0 = mapdl.k(\"\", 0,-0.1)\n",
    "m1 = mapdl.k(\"\",0,0.1)\n",
    "m2 = mapdl.k(\"\",x-0.0025,0.1)\n",
    "m3 = mapdl.k(\"\",x-0.0025,0.1002)\n",
    "m4 = mapdl.k(\"\",x+0.0025,0.1002)\n",
    "m5 =mapdl.k(\"\",x+0.0025,0.1)\n",
    "m6 = mapdl.k(\"\", 0.1, 0.1)\n",
    "m7 = mapdl.k(\"\", 0.1, -0.1)\n",
    "main = mapdl.a(m0,m1,m2,m3,m4,m5,m6,m7)\n",
    "\n",
    "# Defining points for the crack\n",
    "b = 0.0001\n",
    "beta = np.pi/12\n",
    "us1 = np.tan(theta1)\n",
    "us2 = np.tan(theta1+beta)# lower side of crack 1\n",
    "us3 = np.tan(theta1-beta)# upper side of crack 2\n",
    "\n",
    "d = a1*(np.sin(theta1)-np.cos(theta1)*us2)\n",
    "e = a1*(np.sin(theta1)-np.cos(theta1)*us3)\n",
    "\n",
    "x1 = (b+d)/(us1-us2)\n",
    "y1 = us1*x1-b \n",
    "x3 = (b-e)/(us3-us1)\n",
    "y3 = us1*x3+b \n",
    "\n"
   ]
  },
  {
   "cell_type": "code",
   "execution_count": 20,
   "id": "5adbe98a",
   "metadata": {},
   "outputs": [
    {
     "data": {
      "application/vnd.jupyter.widget-view+json": {
       "model_id": "804a1fbebd9b4919894959b5780f2e33",
       "version_major": 2,
       "version_minor": 0
      },
      "text/plain": [
       "Widget(value=\"<iframe src='http://localhost:52796/index.html?ui=P_0x28c4f4c5c60_4&reconnect=auto' style='width…"
      ]
     },
     "metadata": {},
     "output_type": "display_data"
    }
   ],
   "source": [
    "\n",
    "# Crack geometry for Crack 1\n",
    "k0 = mapdl.k(\"\",0,-b +shift)\n",
    "k1 = mapdl.k(\"\",x1,y1+shift)\n",
    "k2 = mapdl.k(\"\",a1*np.cos(theta1),a1*np.sin(theta1)+shift)\n",
    "k3 = mapdl.k(\"\",x3,y3+shift)\n",
    "k4 = mapdl.k(\"\",0,b+shift)\n",
    "crack1 = mapdl.a(k0,k1,k2,k3,k4)\n",
    "aout = mapdl.asba(main, crack1)\n",
    "\n",
    "### Geometry for Crack 2\n",
    "\n",
    "ls1 = np.tan(theta2)\n",
    "ls2 = np.tan(theta2+beta)# lower side of crack 1\n",
    "ls3 = np.tan(theta2-beta)# upper side of crack 2\n",
    "\n",
    "d = a2*(np.sin(theta2)-np.cos(theta2)*ls2)\n",
    "e = a2*(np.sin(theta2)-np.cos(theta2)*ls3)\n",
    "\n",
    "x1 = (b+d)/(ls1-ls2)\n",
    "y1 = ls1*x1-b \n",
    "x3 = (b-e)/(ls3-ls1)\n",
    "y3 = ls1*x3+b \n",
    "\n",
    "\n",
    "k0 = mapdl.k(\"\",0,-b -shift)\n",
    "k1 = mapdl.k(\"\",x1,y1-shift)\n",
    "k2 = mapdl.k(\"\",a2*np.cos(theta2),a2*np.sin(theta2)-shift)\n",
    "k3 = mapdl.k(\"\",x3,y3-shift)\n",
    "k4 = mapdl.k(\"\",0,b-shift)\n",
    "crack2 = mapdl.a(k0,k1,k2,k3,k4)\n",
    "aout = mapdl.asba(aout, crack2)\n",
    "\n",
    "mapdl.vext(aout, dz=0.005)\n",
    "mapdl.vplot(show_lines=True, quality=5)"
   ]
  },
  {
   "cell_type": "code",
   "execution_count": 21,
   "id": "061d7d98",
   "metadata": {},
   "outputs": [
    {
     "data": {
      "application/vnd.jupyter.widget-view+json": {
       "model_id": "3aa4396c8b1b4d50bdfdb4b5db8c105c",
       "version_major": 2,
       "version_minor": 0
      },
      "text/plain": [
       "Widget(value=\"<iframe src='http://localhost:52796/index.html?ui=P_0x28c4cbddde0_5&reconnect=auto' style='width…"
      ]
     },
     "metadata": {},
     "output_type": "display_data"
    }
   ],
   "source": [
    "mapdl.et(1,\"SOLID285\")\n",
    "    # Define the Mesh\n",
    "mapdl.smrtsize(1)\n",
    "mapdl.aesize(\"ALL\", 0.003)\n",
    "mapdl.vmesh(1)\n",
    "\n",
    "mapdl.eplot(vtk=True, show_edges=True, show_axes=False, line_width=2, background=\"w\")"
   ]
  },
  {
   "cell_type": "code",
   "execution_count": 22,
   "id": "63e219cd",
   "metadata": {},
   "outputs": [
    {
     "data": {
      "text/plain": [
       "*** MAPDL - ENGINEERING ANALYSIS SYSTEM  RELEASE 2023 R1          23.1     ***\n",
       " Ansys Mechanical Enterprise Academic Student      \n",
       " 01055371  VERSION=WINDOWS x64   08:51:16  APR 19, 2023 CP=      9.734\n",
       "\n",
       "                                                                               \n",
       "\n",
       "\n",
       "\n",
       "          ***** MAPDL RESULTS INTERPRETATION (POST1) *****"
      ]
     },
     "execution_count": 22,
     "metadata": {},
     "output_type": "execute_result"
    }
   ],
   "source": [
    "# Using the SI units\n",
    "press= 250e5\n",
    "mapdl.units(\"SI\")  # SI - International system (m, kg, s, K).\n",
    "\n",
    "# Define a material (nominal steel in SI)\n",
    "mapdl.mp(\"EX\", 1, E)  # Elastic moduli in Pa (kg/(m*s**2))\n",
    "mapdl.mp(\"DENS\", 1, 7800)  # Density in kg/m3\n",
    "mapdl.mp(\"NUXY\", 1, nu)  # Poisson's Ratio\n",
    "# Fix the lower side.\n",
    "mapdl.nsel(\"S\", \"LOC\", \"Y\", -0.1)\n",
    "mapdl.d(\"ALL\", \"UY\")\n",
    "mapdl.d(\"ALL\", \"UZ\")\n",
    "mapdl.d(\"ALL\", \"UX\")\n",
    "\n",
    "mapdl.nsel(\"S\", \"LOC\", \"Y\", 0.1)\n",
    "mapdl.cp(5, \"UX\", \"ALL\")\n",
    "\n",
    "mapdl.asel(\"S\",'LOC',\"Y\",0.1002)\n",
    "mapdl.sfa('ALL', '', 'PRES', -press)\n",
    "mapdl.allsel(mute=True)\n",
    "mapdl.run(\"/SOLU\")\n",
    "mapdl.antype(\"STATIC\")\n",
    "mapdl.solve()\n",
    "mapdl.finish(mute=True)\n",
    "\n",
    "# List parameters to post-process\n",
    "mapdl.post1()\n",
    "\n",
    "\n",
    "\n"
   ]
  },
  {
   "cell_type": "code",
   "execution_count": 14,
   "id": "4249c81e",
   "metadata": {},
   "outputs": [
    {
     "ename": "NameError",
     "evalue": "name 'theta' is not defined",
     "output_type": "error",
     "traceback": [
      "\u001b[1;31m---------------------------------------------------------------------------\u001b[0m",
      "\u001b[1;31mNameError\u001b[0m                                 Traceback (most recent call last)",
      "Cell \u001b[1;32mIn[14], line 10\u001b[0m\n\u001b[0;32m      8\u001b[0m mapdl\u001b[38;5;241m.\u001b[39mppath(\u001b[38;5;241m2\u001b[39m, node2)\n\u001b[0;32m      9\u001b[0m mapdl\u001b[38;5;241m.\u001b[39mppath(\u001b[38;5;241m3\u001b[39m, node3)\n\u001b[1;32m---> 10\u001b[0m mapdl\u001b[38;5;241m.\u001b[39mlocal(\u001b[38;5;241m11\u001b[39m,\u001b[38;5;241m0\u001b[39m,a1\u001b[38;5;241m*\u001b[39mnp\u001b[38;5;241m.\u001b[39mcos(theta1),a1\u001b[38;5;241m*\u001b[39mnp\u001b[38;5;241m.\u001b[39msin(theta1)\u001b[38;5;241m+\u001b[39mshift,\u001b[38;5;241m0\u001b[39m,\u001b[43mtheta\u001b[49m\u001b[38;5;241m*\u001b[39m\u001b[38;5;241m180\u001b[39m\u001b[38;5;241m/\u001b[39mnp\u001b[38;5;241m.\u001b[39mpi)\n",
      "\u001b[1;31mNameError\u001b[0m: name 'theta' is not defined"
     ]
    }
   ],
   "source": [
    "mapdl.path('P1',3,5)\n",
    "node1 = mapdl.queries.node(a1*np.cos(theta1),a1*np.sin(theta1)+shift,0)\n",
    "xs1 = 0.6*a1\n",
    "ys1 = us1*xs1-b+shift\n",
    "node2 = mapdl.queries.node(xs1,ys1,0)\n",
    "node3 = mapdl.queries.node(0,-b+shift,0)\n",
    "mapdl.ppath(1, node1)\n",
    "mapdl.ppath(2, node2)\n",
    "mapdl.ppath(3, node3)\n",
    "mapdl.local(11,0,a1*np.cos(theta1),a1*np.sin(theta1)+shift,0,theta*180/np.pi)\n"
   ]
  },
  {
   "cell_type": "code",
   "execution_count": 23,
   "id": "eeed810e",
   "metadata": {},
   "outputs": [
    {
     "data": {
      "application/vnd.jupyter.widget-view+json": {
       "model_id": "e7e40c352c444a76bff8419788c9baad",
       "version_major": 2,
       "version_minor": 0
      },
      "text/plain": [
       "Widget(value=\"<iframe src='http://localhost:52796/index.html?ui=P_0x28c4a5b13f0_6&reconnect=auto' style='width…"
      ]
     },
     "metadata": {},
     "output_type": "display_data"
    }
   ],
   "source": [
    "#mapdl.csys(11)\n",
    "#k1 = mapdl.kcalc(0,1,0,0)\n",
    "result = mapdl.result\n",
    "result.plot_principal_nodal_stress(\n",
    "    0,\n",
    "    \"SEQV\",\n",
    "    lighting=False,\n",
    "    background=\"w\",\n",
    "    show_edges=True,\n",
    "    text_color=\"k\",\n",
    "    add_text=False,\n",
    ")\n"
   ]
  },
  {
   "cell_type": "code",
   "execution_count": 152,
   "id": "0cf5a677",
   "metadata": {},
   "outputs": [
    {
     "data": {
      "text/plain": [
       "****  CALCULATE MIXED-MODE STRESS INTENSITY  FACTORS  ****\n",
       "\n",
       "   ASSUME PLANE STRAIN CONDITIONS\n",
       "\n",
       "   ASSUME A HALF-CRACK MODEL WITH SYMMETRY BOUNDARY CONDITIONS (USE 3 NODES)\n",
       "\n",
       "   EXTRAPOLATION PATH IS DEFINED BY NODES:       66      63      45\n",
       "    WITH NODE      66 AS THE CRACK-TIP NODE\n",
       "\n",
       "   USE MATERIAL PROPERTIES FOR MATERIAL NUMBER     1\n",
       "    EX =    0.21000E+12   NUXY =    0.30000      AT TEMP =  0.0000    \n",
       "\n",
       " ****  KI =  0.61167E+08,   KII =   0.0000    ,   KIII =   0.0000      ****"
      ]
     },
     "execution_count": 152,
     "metadata": {},
     "output_type": "execute_result"
    }
   ],
   "source": [
    "k1"
   ]
  },
  {
   "cell_type": "code",
   "execution_count": 153,
   "id": "b7f04bb4",
   "metadata": {},
   "outputs": [
    {
     "data": {
      "text/plain": [
       "*** MAPDL - ENGINEERING ANALYSIS SYSTEM  RELEASE 2023 R1          23.1     ***\n",
       " Ansys Mechanical Enterprise Academic Student      \n",
       " 01055371  VERSION=WINDOWS x64   20:10:43  APR 16, 2023 CP=      5.312\n",
       "\n",
       "                                                                               \n",
       "\n",
       "\n",
       "\n",
       "          ***** MAPDL ANALYSIS DEFINITION (PREP7) *****"
      ]
     },
     "execution_count": 153,
     "metadata": {},
     "output_type": "execute_result"
    }
   ],
   "source": [
    "mapdl.clear()\n",
    "mapdl.prep7()"
   ]
  },
  {
   "cell_type": "code",
   "execution_count": 154,
   "id": "f1184b2d",
   "metadata": {},
   "outputs": [
    {
     "data": {
      "application/vnd.jupyter.widget-view+json": {
       "model_id": "429855548cfd471ca7577619024d3ace",
       "version_major": 2,
       "version_minor": 0
      },
      "text/plain": [
       "Widget(value=\"<iframe src='http://localhost:52944/index.html?ui=P_0x1d98cf51090_33&reconnect=auto' style='widt…"
      ]
     },
     "metadata": {},
     "output_type": "display_data"
    },
    {
     "data": {
      "application/vnd.jupyter.widget-view+json": {
       "model_id": "a37e89f4d9d2401c927fe92a9c8e4d80",
       "version_major": 2,
       "version_minor": 0
      },
      "text/plain": [
       "Widget(value=\"<iframe src='http://localhost:52944/index.html?ui=P_0x1d98cf85120_34&reconnect=auto' style='widt…"
      ]
     },
     "metadata": {},
     "output_type": "display_data"
    }
   ],
   "source": [
    "\n",
    "# Define Material Property\n",
    "E = 210e9\n",
    "nu = 0.3\n",
    "YS = 240e6\n",
    "# Defining Geometry\n",
    "a1 = 0.02 # Crack length\n",
    "a2 = 0.02\n",
    "c = 0.03 # Thickness\n",
    "theta1 = np.pi/20\n",
    "theta2 = -np.pi/20\n",
    "x = 0.005\n",
    "shift = 0.02\n",
    "\n",
    "\n",
    "E = 210e9\n",
    "nu = 0.3\n",
    "YS = 240e6\n",
    "\n",
    "    # Defining Geometry \n",
    "    # Corners of the rectangle\n",
    "m0 = mapdl.k(\"\", 0,-0.1)\n",
    "m1 = mapdl.k(\"\",0,0.1)\n",
    "m2 = mapdl.k(\"\",x-0.0025,0.1)\n",
    "m3 = mapdl.k(\"\",x-0.0025,0.1002)\n",
    "m4 = mapdl.k(\"\",x+0.0025,0.1002)\n",
    "m5 =mapdl.k(\"\",x+0.0025,0.1)\n",
    "m6 = mapdl.k(\"\", 0.1, 0.1)\n",
    "m7 = mapdl.k(\"\", 0.1, -0.1)\n",
    "main = mapdl.a(m0,m1,m2,m3,m4,m5,m6,m7)\n",
    "\n",
    "# Defining points for the crack\n",
    "b = 0.0001\n",
    "beta = np.pi/12\n",
    "us1 = np.tan(theta1)\n",
    "us2 = np.tan(theta1+beta)# lower side of crack 1\n",
    "us3 = np.tan(theta1-beta)# upper side of crack 2\n",
    "\n",
    "d = a1*(np.sin(theta1)-np.cos(theta1)*us2)\n",
    "e = a1*(np.sin(theta1)-np.cos(theta1)*us3)\n",
    "\n",
    "x1 = (b+d)/(us1-us2)\n",
    "y1 = us1*x1-b \n",
    "x3 = (b-e)/(us3-us1)\n",
    "y3 = us1*x3+b \n",
    "\n",
    "\n",
    "\n",
    "# Crack geometry for Crack 1\n",
    "k0 = mapdl.k(\"\",0,-b +shift)\n",
    "k1 = mapdl.k(\"\",x1,y1+shift)\n",
    "k2 = mapdl.k(\"\",a1*np.cos(theta1),a1*np.sin(theta1)+shift)\n",
    "k3 = mapdl.k(\"\",x3,y3+shift)\n",
    "k4 = mapdl.k(\"\",0,b+shift)\n",
    "crack1 = mapdl.a(k0,k1,k2,k3,k4)\n",
    "aout = mapdl.asba(main, crack1)\n",
    "\n",
    "### Geometry for Crack 2\n",
    "\n",
    "ls1 = np.tan(theta2)\n",
    "ls2 = np.tan(theta2+beta)# lower side of crack 1\n",
    "ls3 = np.tan(theta2-beta)# upper side of crack 2\n",
    "\n",
    "d = a2*(np.sin(theta2)-np.cos(theta2)*ls2)\n",
    "e = a2*(np.sin(theta2)-np.cos(theta2)*ls3)\n",
    "\n",
    "x1 = (b+d)/(ls1-ls2)\n",
    "y1 = ls1*x1-b \n",
    "x3 = (b-e)/(ls3-ls1)\n",
    "y3 = ls1*x3+b \n",
    "\n",
    "\n",
    "k0 = mapdl.k(\"\",0,-b -shift)\n",
    "k1 = mapdl.k(\"\",x1,y1-shift)\n",
    "k2 = mapdl.k(\"\",a2*np.cos(theta2),a2*np.sin(theta2)-shift)\n",
    "k3 = mapdl.k(\"\",x3,y3-shift)\n",
    "k4 = mapdl.k(\"\",0,b-shift)\n",
    "crack2 = mapdl.a(k0,k1,k2,k3,k4)\n",
    "aout = mapdl.asba(aout, crack2)\n",
    "\n",
    "mapdl.vext(aout, dz=0.005)\n",
    "mapdl.vplot(show_lines=True, quality=5)\n",
    "\n",
    "\n",
    "mapdl.et(1,\"SOLID285\")\n",
    "    # Define the Mesh\n",
    "mapdl.smrtsize(1)\n",
    "mapdl.aesize(\"ALL\", 0.003)\n",
    "mapdl.vmesh(1)\n",
    "\n",
    "mapdl.eplot(vtk=True, show_edges=True, show_axes=False, line_width=2, background=\"w\")\n",
    "\n",
    "\n",
    "# Using the SI units\n",
    "press= 250e6\n",
    "mapdl.units(\"SI\")  # SI - International system (m, kg, s, K).\n",
    "\n",
    "# Define a material (nominal steel in SI)\n",
    "mapdl.mp(\"EX\", 1, E)  # Elastic moduli in Pa (kg/(m*s**2))\n",
    "mapdl.mp(\"DENS\", 1, 7800)  # Density in kg/m3\n",
    "mapdl.mp(\"NUXY\", 1, nu)  # Poisson's Ratio\n",
    "# Fix the lower side.\n",
    "mapdl.nsel(\"S\", \"LOC\", \"Y\", -0.1)\n",
    "mapdl.d(\"ALL\", \"UY\")\n",
    "mapdl.d(\"ALL\", \"UZ\")\n",
    "mapdl.d(\"ALL\", \"UX\")\n",
    "\n",
    "mapdl.nsel(\"S\", \"LOC\", \"Y\", 0.1)\n",
    "mapdl.cp(5, \"UX\", \"ALL\")\n",
    "\n",
    "mapdl.asel(\"S\",'LOC',\"Y\",0.1002)\n",
    "mapdl.sfa('ALL', '', 'PRES', -press)\n",
    "mapdl.allsel(mute=True)\n",
    "mapdl.run(\"/SOLU\")\n",
    "mapdl.antype(\"STATIC\")\n",
    "mapdl.solve()\n",
    "mapdl.finish(mute=True)\n",
    "\n",
    "# List parameters to post-process\n",
    "mapdl.post1()\n",
    "\n",
    "mapdl.path('P2',3,5)\n",
    "node4 = mapdl.queries.node(a*np.cos(theta2),a*np.sin(theta2)-shift,0)\n",
    "xs2 = 0.6*a2\n",
    "ys2 = ls1*xs2+b-shift\n",
    "node5 = mapdl.queries.node(xs2,ys2,0)\n",
    "node6 = mapdl.queries.node(0,b-shift,0)\n",
    "mapdl.ppath(1, node4)\n",
    "mapdl.ppath(2, node5)\n",
    "mapdl.ppath(3, node6)\n",
    "mapdl.local(12,0,a2*np.cos(theta2),a2*np.sin(theta2)-shift,0,theta2*180/np.pi)\n",
    "mapdl.post1()\n",
    "mapdl.csys(12)\n",
    "k2 = mapdl.kcalc(0,1,0,0)\n",
    "\n",
    "result = mapdl.result"
   ]
  },
  {
   "cell_type": "code",
   "execution_count": 155,
   "id": "8e580f45",
   "metadata": {},
   "outputs": [
    {
     "data": {
      "text/plain": [
       "****  CALCULATE MIXED-MODE STRESS INTENSITY  FACTORS  ****\n",
       "\n",
       "   ASSUME PLANE STRAIN CONDITIONS\n",
       "\n",
       "   ASSUME A HALF-CRACK MODEL WITH SYMMETRY BOUNDARY CONDITIONS (USE 3 NODES)\n",
       "\n",
       "   EXTRAPOLATION PATH IS DEFINED BY NODES:       36      41      38\n",
       "    WITH NODE      36 AS THE CRACK-TIP NODE\n",
       "\n",
       "   USE MATERIAL PROPERTIES FOR MATERIAL NUMBER     1\n",
       "    EX =    0.21000E+12   NUXY =    0.30000      AT TEMP =  0.0000    \n",
       "\n",
       " ****  KI =  0.76289E+08,   KII =   0.0000    ,   KIII =   0.0000      ****"
      ]
     },
     "execution_count": 155,
     "metadata": {},
     "output_type": "execute_result"
    }
   ],
   "source": [
    "k2"
   ]
  },
  {
   "cell_type": "code",
   "execution_count": null,
   "id": "4555a1c9",
   "metadata": {},
   "outputs": [],
   "source": []
  }
 ],
 "metadata": {
  "kernelspec": {
   "display_name": "Python 3 (ipykernel)",
   "language": "python",
   "name": "python3"
  },
  "language_info": {
   "codemirror_mode": {
    "name": "ipython",
    "version": 3
   },
   "file_extension": ".py",
   "mimetype": "text/x-python",
   "name": "python",
   "nbconvert_exporter": "python",
   "pygments_lexer": "ipython3",
   "version": "3.10.9"
  }
 },
 "nbformat": 4,
 "nbformat_minor": 5
}
